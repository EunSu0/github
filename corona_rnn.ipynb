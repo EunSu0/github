{
  "nbformat": 4,
  "nbformat_minor": 0,
  "metadata": {
    "colab": {
      "provenance": [],
      "authorship_tag": "ABX9TyODgmRjoAmYNnToQgB6rViL",
      "include_colab_link": true
    },
    "kernelspec": {
      "name": "python3",
      "display_name": "Python 3"
    },
    "language_info": {
      "name": "python"
    }
  },
  "cells": [
    {
      "cell_type": "markdown",
      "metadata": {
        "id": "view-in-github",
        "colab_type": "text"
      },
      "source": [
        "<a href=\"https://colab.research.google.com/github/EunSu0/github/blob/main/corona_rnn.ipynb\" target=\"_parent\"><img src=\"https://colab.research.google.com/assets/colab-badge.svg\" alt=\"Open In Colab\"/></a>"
      ]
    },
    {
      "cell_type": "code",
      "execution_count": 1,
      "metadata": {
        "id": "oCC_WDt9-xGf"
      },
      "outputs": [],
      "source": [
        "import keras"
      ]
    },
    {
      "cell_type": "code",
      "source": [
        "# simplernn은 가장 기본적인 순환 신경망\n",
        "# minmaxscaler 데이터를 정규화하기 위한 방법\n",
        "# mean_squared_error 결과의 정확도를 계산하기 위한 함수\n",
        "from keras.models import Sequential\n",
        "from keras.layers import SimpleRNN, Dense\n",
        "from sklearn.preprocessing import MinMaxScaler\n",
        "from sklearn.metrics import mean_squared_error\n",
        "from sklearn.model_selection import train_test_split\n",
        "import math\n",
        "import numpy as np\n",
        "import matplotlib.pyplot as plt\n",
        "from pandas import read_csv"
      ],
      "metadata": {
        "id": "RRUlvPxYODyn"
      },
      "execution_count": 2,
      "outputs": []
    },
    {
      "cell_type": "code",
      "source": [
        "!git clone https://github.com/yhlee1627/deeplearning.git\n",
        "dataframe = read_csv('/content/deeplearning/corona_daily.csv', usecols=[3], engine='python', skipfooter=3)\n",
        "print(dataframe)\n",
        "dataset = dataframe.values\n",
        "dataset = dataset.astype('float32')"
      ],
      "metadata": {
        "colab": {
          "base_uri": "https://localhost:8080/"
        },
        "id": "LJbefpJGOo62",
        "outputId": "9fd93706-1dff-4d87-cb9d-e553e9e479f6"
      },
      "execution_count": 3,
      "outputs": [
        {
          "output_type": "stream",
          "name": "stdout",
          "text": [
            "Cloning into 'deeplearning'...\n",
            "remote: Enumerating objects: 5, done.\u001b[K\n",
            "remote: Counting objects: 100% (5/5), done.\u001b[K\n",
            "remote: Compressing objects: 100% (3/3), done.\u001b[K\n",
            "remote: Total 5 (delta 0), reused 0 (delta 0), pack-reused 0\u001b[K\n",
            "Unpacking objects: 100% (5/5), 3.03 KiB | 3.03 MiB/s, done.\n",
            "     Confirmed\n",
            "0           24\n",
            "1           24\n",
            "2           27\n",
            "3           27\n",
            "4           28\n",
            "..         ...\n",
            "107      11190\n",
            "108      11206\n",
            "109      11225\n",
            "110      11265\n",
            "111      11344\n",
            "\n",
            "[112 rows x 1 columns]\n"
          ]
        }
      ]
    },
    {
      "cell_type": "code",
      "source": [
        "# 데이터 정규화 및 분류하기\n",
        "# 분류할데이터(Dataset), 검증 데이터 비율(test_size=0.2), 추출하는 방법(shuffle=False)\n",
        "# 훈련데이터와 검증데이터 개수 출력\n",
        "scaler = MinMaxScaler(feature_range=(0, 1))\n",
        "Dataset = scaler.fit_transform(dataset)\n",
        "train_data, test_data = train_test_split(Dataset, test_size=0.2, shuffle=False)\n",
        "print(len(train_data), len(test_data))"
      ],
      "metadata": {
        "colab": {
          "base_uri": "https://localhost:8080/"
        },
        "id": "qZsoAsPhP0o_",
        "outputId": "10d29cc7-5f0e-45cd-949a-e29f0af6b0b8"
      },
      "execution_count": 4,
      "outputs": [
        {
          "output_type": "stream",
          "name": "stdout",
          "text": [
            "89 23\n"
          ]
        }
      ]
    },
    {
      "cell_type": "code",
      "source": [
        "# 데이터 형태 변경하기\n",
        "def create_dataset(dataset, look_back):\n",
        "  x_data = []\n",
        "  y_data = []\n",
        "  for i in range(len(dataset) - look_back):\n",
        "    data = dataset[i:(i+look_back), 0]\n",
        "    x_data.append(data)\n",
        "    y_data.append(dataset[i + look_back, 0])\n",
        "  return np.array(x_data), np.array(y_data)"
      ],
      "metadata": {
        "id": "wcMSE81ETIrO"
      },
      "execution_count": 5,
      "outputs": []
    },
    {
      "cell_type": "code",
      "source": [
        "look_back = 3\n",
        "x_train, y_train = create_dataset(train_data, look_back)\n",
        "x_test, y_test = create_dataset(test_data, look_back)\n",
        "print(x_train.shape, y_train.shape)\n",
        "print(x_test.shape, y_test.shape)"
      ],
      "metadata": {
        "colab": {
          "base_uri": "https://localhost:8080/"
        },
        "id": "_iHvRQYmTt9X",
        "outputId": "b7c4ea6a-82a1-4b56-d743-0991a6cc5135"
      },
      "execution_count": 6,
      "outputs": [
        {
          "output_type": "stream",
          "name": "stdout",
          "text": [
            "(86, 3) (86,)\n",
            "(20, 3) (20,)\n"
          ]
        }
      ]
    },
    {
      "cell_type": "code",
      "source": [
        "# 인공지능 모델에 넣어줄 형태로 변환하기\n",
        "X_train = np.reshape(x_train, (x_train.shape[0], 1, x_train.shape[1]))\n",
        "X_test = np.reshape(x_test, (x_test.shape[0], 1, x_test.shape[1]))\n",
        "print(X_train.shape)\n",
        "print(X_test.shape)"
      ],
      "metadata": {
        "colab": {
          "base_uri": "https://localhost:8080/"
        },
        "id": "pTF5Vqk7UOLR",
        "outputId": "76638f15-aef7-417d-a7c4-3760a93005f6"
      },
      "execution_count": 7,
      "outputs": [
        {
          "output_type": "stream",
          "name": "stdout",
          "text": [
            "(86, 1, 3)\n",
            "(20, 1, 3)\n"
          ]
        }
      ]
    },
    {
      "cell_type": "code",
      "source": [
        "# 인공지능 모델 만들기\n",
        "# 시퀀셜 모델\n",
        "# mse(평균제곱오차)\n",
        "model = Sequential()\n",
        "model.add(SimpleRNN(3, input_shape=(1, look_back)))\n",
        "model.add(Dense(1, activation=\"linear\"))\n",
        "model.compile(loss='mse', optimizer='adam')\n",
        "model.summary"
      ],
      "metadata": {
        "colab": {
          "base_uri": "https://localhost:8080/"
        },
        "id": "uaoBaqUrUwxt",
        "outputId": "a411ae5a-c9b6-495e-87a6-1a296e9a31df"
      },
      "execution_count": 8,
      "outputs": [
        {
          "output_type": "execute_result",
          "data": {
            "text/plain": [
              "<bound method Model.summary of <keras.engine.sequential.Sequential object at 0x7f2074e7fc10>>"
            ]
          },
          "metadata": {},
          "execution_count": 8
        }
      ]
    },
    {
      "cell_type": "code",
      "source": [
        "model.fit(X_train, y_train, epochs=100, batch_size=1, verbose=1)"
      ],
      "metadata": {
        "colab": {
          "base_uri": "https://localhost:8080/"
        },
        "id": "hRv0RNBSVNVJ",
        "outputId": "dc854e01-2352-4c31-eb90-74e0b1bab807"
      },
      "execution_count": 9,
      "outputs": [
        {
          "output_type": "stream",
          "name": "stdout",
          "text": [
            "Epoch 1/100\n",
            "86/86 [==============================] - 1s 3ms/step - loss: 0.0207\n",
            "Epoch 2/100\n",
            "86/86 [==============================] - 0s 2ms/step - loss: 0.0022\n",
            "Epoch 3/100\n",
            "86/86 [==============================] - 0s 3ms/step - loss: 0.0011\n",
            "Epoch 4/100\n",
            "86/86 [==============================] - 0s 2ms/step - loss: 6.3995e-04\n",
            "Epoch 5/100\n",
            "86/86 [==============================] - 0s 2ms/step - loss: 4.9792e-04\n",
            "Epoch 6/100\n",
            "86/86 [==============================] - 0s 2ms/step - loss: 4.5348e-04\n",
            "Epoch 7/100\n",
            "86/86 [==============================] - 0s 2ms/step - loss: 4.4018e-04\n",
            "Epoch 8/100\n",
            "86/86 [==============================] - 0s 2ms/step - loss: 4.6247e-04\n",
            "Epoch 9/100\n",
            "86/86 [==============================] - 0s 2ms/step - loss: 4.4352e-04\n",
            "Epoch 10/100\n",
            "86/86 [==============================] - 0s 2ms/step - loss: 4.4895e-04\n",
            "Epoch 11/100\n",
            "86/86 [==============================] - 0s 2ms/step - loss: 4.5994e-04\n",
            "Epoch 12/100\n",
            "86/86 [==============================] - 0s 2ms/step - loss: 4.5687e-04\n",
            "Epoch 13/100\n",
            "86/86 [==============================] - 0s 2ms/step - loss: 4.5330e-04\n",
            "Epoch 14/100\n",
            "86/86 [==============================] - 0s 2ms/step - loss: 4.7886e-04\n",
            "Epoch 15/100\n",
            "86/86 [==============================] - 0s 2ms/step - loss: 4.4487e-04\n",
            "Epoch 16/100\n",
            "86/86 [==============================] - 0s 2ms/step - loss: 4.4423e-04\n",
            "Epoch 17/100\n",
            "86/86 [==============================] - 0s 2ms/step - loss: 4.7349e-04\n",
            "Epoch 18/100\n",
            "86/86 [==============================] - 0s 2ms/step - loss: 4.4788e-04\n",
            "Epoch 19/100\n",
            "86/86 [==============================] - 0s 2ms/step - loss: 4.6133e-04\n",
            "Epoch 20/100\n",
            "86/86 [==============================] - 0s 2ms/step - loss: 4.4026e-04\n",
            "Epoch 21/100\n",
            "86/86 [==============================] - 0s 2ms/step - loss: 4.3859e-04\n",
            "Epoch 22/100\n",
            "86/86 [==============================] - 0s 3ms/step - loss: 4.5680e-04\n",
            "Epoch 23/100\n",
            "86/86 [==============================] - 0s 2ms/step - loss: 4.4963e-04\n",
            "Epoch 24/100\n",
            "86/86 [==============================] - 0s 2ms/step - loss: 4.7170e-04\n",
            "Epoch 25/100\n",
            "86/86 [==============================] - 0s 2ms/step - loss: 4.7489e-04\n",
            "Epoch 26/100\n",
            "86/86 [==============================] - 0s 2ms/step - loss: 4.4512e-04\n",
            "Epoch 27/100\n",
            "86/86 [==============================] - 0s 2ms/step - loss: 4.3602e-04\n",
            "Epoch 28/100\n",
            "86/86 [==============================] - 0s 2ms/step - loss: 4.4219e-04\n",
            "Epoch 29/100\n",
            "86/86 [==============================] - 0s 2ms/step - loss: 4.3480e-04\n",
            "Epoch 30/100\n",
            "86/86 [==============================] - 0s 2ms/step - loss: 4.2959e-04\n",
            "Epoch 31/100\n",
            "86/86 [==============================] - 0s 2ms/step - loss: 4.2936e-04\n",
            "Epoch 32/100\n",
            "86/86 [==============================] - 0s 2ms/step - loss: 4.2879e-04\n",
            "Epoch 33/100\n",
            "86/86 [==============================] - 0s 3ms/step - loss: 4.5313e-04\n",
            "Epoch 34/100\n",
            "86/86 [==============================] - 0s 2ms/step - loss: 4.4325e-04\n",
            "Epoch 35/100\n",
            "86/86 [==============================] - 0s 2ms/step - loss: 4.5151e-04\n",
            "Epoch 36/100\n",
            "86/86 [==============================] - 0s 2ms/step - loss: 4.5558e-04\n",
            "Epoch 37/100\n",
            "86/86 [==============================] - 0s 2ms/step - loss: 4.2742e-04\n",
            "Epoch 38/100\n",
            "86/86 [==============================] - 0s 2ms/step - loss: 4.4179e-04\n",
            "Epoch 39/100\n",
            "86/86 [==============================] - 0s 2ms/step - loss: 4.1821e-04\n",
            "Epoch 40/100\n",
            "86/86 [==============================] - 0s 2ms/step - loss: 4.5676e-04\n",
            "Epoch 41/100\n",
            "86/86 [==============================] - 0s 2ms/step - loss: 4.1487e-04\n",
            "Epoch 42/100\n",
            "86/86 [==============================] - 0s 1ms/step - loss: 4.3876e-04\n",
            "Epoch 43/100\n",
            "86/86 [==============================] - 0s 2ms/step - loss: 4.5517e-04\n",
            "Epoch 44/100\n",
            "86/86 [==============================] - 0s 2ms/step - loss: 4.1755e-04\n",
            "Epoch 45/100\n",
            "86/86 [==============================] - 0s 2ms/step - loss: 4.1206e-04\n",
            "Epoch 46/100\n",
            "86/86 [==============================] - 0s 2ms/step - loss: 4.3580e-04\n",
            "Epoch 47/100\n",
            "86/86 [==============================] - 0s 2ms/step - loss: 4.1693e-04\n",
            "Epoch 48/100\n",
            "86/86 [==============================] - 0s 2ms/step - loss: 4.2631e-04\n",
            "Epoch 49/100\n",
            "86/86 [==============================] - 0s 2ms/step - loss: 3.9431e-04\n",
            "Epoch 50/100\n",
            "86/86 [==============================] - 0s 2ms/step - loss: 4.3331e-04\n",
            "Epoch 51/100\n",
            "86/86 [==============================] - 0s 2ms/step - loss: 4.4412e-04\n",
            "Epoch 52/100\n",
            "86/86 [==============================] - 0s 2ms/step - loss: 3.8704e-04\n",
            "Epoch 53/100\n",
            "86/86 [==============================] - 0s 2ms/step - loss: 3.9110e-04\n",
            "Epoch 54/100\n",
            "86/86 [==============================] - 0s 2ms/step - loss: 3.8812e-04\n",
            "Epoch 55/100\n",
            "86/86 [==============================] - 0s 2ms/step - loss: 4.1863e-04\n",
            "Epoch 56/100\n",
            "86/86 [==============================] - 0s 2ms/step - loss: 4.6114e-04\n",
            "Epoch 57/100\n",
            "86/86 [==============================] - 0s 3ms/step - loss: 3.9923e-04\n",
            "Epoch 58/100\n",
            "86/86 [==============================] - 0s 2ms/step - loss: 3.9511e-04\n",
            "Epoch 59/100\n",
            "86/86 [==============================] - 0s 3ms/step - loss: 3.7765e-04\n",
            "Epoch 60/100\n",
            "86/86 [==============================] - 0s 4ms/step - loss: 3.7591e-04\n",
            "Epoch 61/100\n",
            "86/86 [==============================] - 0s 3ms/step - loss: 3.7684e-04\n",
            "Epoch 62/100\n",
            "86/86 [==============================] - 0s 2ms/step - loss: 3.9451e-04\n",
            "Epoch 63/100\n",
            "86/86 [==============================] - 0s 3ms/step - loss: 4.0516e-04\n",
            "Epoch 64/100\n",
            "86/86 [==============================] - 0s 2ms/step - loss: 3.7111e-04\n",
            "Epoch 65/100\n",
            "86/86 [==============================] - 0s 2ms/step - loss: 3.8222e-04\n",
            "Epoch 66/100\n",
            "86/86 [==============================] - 0s 2ms/step - loss: 3.4834e-04\n",
            "Epoch 67/100\n",
            "86/86 [==============================] - 0s 2ms/step - loss: 3.9212e-04\n",
            "Epoch 68/100\n",
            "86/86 [==============================] - 0s 3ms/step - loss: 3.4203e-04\n",
            "Epoch 69/100\n",
            "86/86 [==============================] - 0s 2ms/step - loss: 3.2563e-04\n",
            "Epoch 70/100\n",
            "86/86 [==============================] - 0s 3ms/step - loss: 3.7733e-04\n",
            "Epoch 71/100\n",
            "86/86 [==============================] - 0s 2ms/step - loss: 3.6560e-04\n",
            "Epoch 72/100\n",
            "86/86 [==============================] - 0s 2ms/step - loss: 3.4334e-04\n",
            "Epoch 73/100\n",
            "86/86 [==============================] - 0s 2ms/step - loss: 3.3600e-04\n",
            "Epoch 74/100\n",
            "86/86 [==============================] - 0s 2ms/step - loss: 3.9513e-04\n",
            "Epoch 75/100\n",
            "86/86 [==============================] - 0s 2ms/step - loss: 3.3244e-04\n",
            "Epoch 76/100\n",
            "86/86 [==============================] - 0s 2ms/step - loss: 3.4012e-04\n",
            "Epoch 77/100\n",
            "86/86 [==============================] - 0s 2ms/step - loss: 3.5287e-04\n",
            "Epoch 78/100\n",
            "86/86 [==============================] - 0s 2ms/step - loss: 4.0941e-04\n",
            "Epoch 79/100\n",
            "86/86 [==============================] - 0s 2ms/step - loss: 3.3547e-04\n",
            "Epoch 80/100\n",
            "86/86 [==============================] - 0s 4ms/step - loss: 3.5217e-04\n",
            "Epoch 81/100\n",
            "86/86 [==============================] - 0s 3ms/step - loss: 3.6036e-04\n",
            "Epoch 82/100\n",
            "86/86 [==============================] - 0s 1ms/step - loss: 3.2401e-04\n",
            "Epoch 83/100\n",
            "86/86 [==============================] - 0s 1ms/step - loss: 3.2507e-04\n",
            "Epoch 84/100\n",
            "86/86 [==============================] - 0s 1ms/step - loss: 3.3091e-04\n",
            "Epoch 85/100\n",
            "86/86 [==============================] - 0s 1ms/step - loss: 3.1797e-04\n",
            "Epoch 86/100\n",
            "86/86 [==============================] - 0s 1ms/step - loss: 3.1756e-04\n",
            "Epoch 87/100\n",
            "86/86 [==============================] - 0s 1ms/step - loss: 3.7591e-04\n",
            "Epoch 88/100\n",
            "86/86 [==============================] - 0s 1ms/step - loss: 3.4032e-04\n",
            "Epoch 89/100\n",
            "86/86 [==============================] - 0s 1ms/step - loss: 3.0393e-04\n",
            "Epoch 90/100\n",
            "86/86 [==============================] - 0s 1ms/step - loss: 3.0510e-04\n",
            "Epoch 91/100\n",
            "86/86 [==============================] - 0s 1ms/step - loss: 3.2411e-04\n",
            "Epoch 92/100\n",
            "86/86 [==============================] - 0s 1ms/step - loss: 3.0695e-04\n",
            "Epoch 93/100\n",
            "86/86 [==============================] - 0s 1ms/step - loss: 3.3469e-04\n",
            "Epoch 94/100\n",
            "86/86 [==============================] - 0s 1ms/step - loss: 2.9145e-04\n",
            "Epoch 95/100\n",
            "86/86 [==============================] - 0s 1ms/step - loss: 3.2544e-04\n",
            "Epoch 96/100\n",
            "86/86 [==============================] - 0s 1ms/step - loss: 3.1388e-04\n",
            "Epoch 97/100\n",
            "86/86 [==============================] - 0s 1ms/step - loss: 3.0192e-04\n",
            "Epoch 98/100\n",
            "86/86 [==============================] - 0s 1ms/step - loss: 2.9225e-04\n",
            "Epoch 99/100\n",
            "86/86 [==============================] - 0s 1ms/step - loss: 3.2393e-04\n",
            "Epoch 100/100\n",
            "86/86 [==============================] - 0s 1ms/step - loss: 2.9308e-04\n"
          ]
        },
        {
          "output_type": "execute_result",
          "data": {
            "text/plain": [
              "<keras.callbacks.History at 0x7f20718613f0>"
            ]
          },
          "metadata": {},
          "execution_count": 9
        }
      ]
    },
    {
      "cell_type": "code",
      "source": [
        "# 데이터 예측하기\n",
        "trainPredict = model.predict(X_train)\n",
        "testPredict = model.predict(X_test)\n",
        "TrainPredict = scaler.inverse_transform(trainPredict)\n",
        "Y_train = scaler.inverse_transform([y_train])\n",
        "TestPredict = scaler.inverse_transform(testPredict)\n",
        "Y_test = scaler.inverse_transform([y_test])\n",
        "print(trainPredict)"
      ],
      "metadata": {
        "colab": {
          "base_uri": "https://localhost:8080/"
        },
        "id": "z4zsDl0lVlLP",
        "outputId": "0733cc33-2a52-4719-f3b3-5060f0a5d489"
      },
      "execution_count": 10,
      "outputs": [
        {
          "output_type": "stream",
          "name": "stdout",
          "text": [
            "3/3 [==============================] - 0s 3ms/step\n",
            "1/1 [==============================] - 0s 14ms/step\n",
            "[[0.01441266]\n",
            " [0.01471092]\n",
            " [0.01465008]\n",
            " [0.0147495 ]\n",
            " [0.01471953]\n",
            " [0.01471953]\n",
            " [0.01471953]\n",
            " [0.0147486 ]\n",
            " [0.01487709]\n",
            " [0.01497561]\n",
            " [0.01562654]\n",
            " [0.01912603]\n",
            " [0.02670403]\n",
            " [0.04171737]\n",
            " [0.0663973 ]\n",
            " [0.08304144]\n",
            " [0.10509701]\n",
            " [0.12070946]\n",
            " [0.1591122 ]\n",
            " [0.21680108]\n",
            " [0.28075248]\n",
            " [0.35885316]\n",
            " [0.40447447]\n",
            " [0.44886157]\n",
            " [0.50460607]\n",
            " [0.54647154]\n",
            " [0.5849352 ]\n",
            " [0.63061047]\n",
            " [0.66758144]\n",
            " [0.692317  ]\n",
            " [0.70701444]\n",
            " [0.71752244]\n",
            " [0.7365285 ]\n",
            " [0.7425985 ]\n",
            " [0.75115544]\n",
            " [0.7588089 ]\n",
            " [0.7640311 ]\n",
            " [0.76999485]\n",
            " [0.77694994]\n",
            " [0.78565705]\n",
            " [0.79715204]\n",
            " [0.80369824]\n",
            " [0.81502295]\n",
            " [0.8206033 ]\n",
            " [0.8249328 ]\n",
            " [0.8313616 ]\n",
            " [0.839348  ]\n",
            " [0.8468001 ]\n",
            " [0.854339  ]\n",
            " [0.86517507]\n",
            " [0.87133723]\n",
            " [0.8773421 ]\n",
            " [0.88665426]\n",
            " [0.8930537 ]\n",
            " [0.89899135]\n",
            " [0.90508056]\n",
            " [0.91147876]\n",
            " [0.91612947]\n",
            " [0.9187042 ]\n",
            " [0.92203516]\n",
            " [0.9254836 ]\n",
            " [0.9276336 ]\n",
            " [0.929297  ]\n",
            " [0.9314219 ]\n",
            " [0.93348306]\n",
            " [0.93507564]\n",
            " [0.93692863]\n",
            " [0.93864423]\n",
            " [0.94002575]\n",
            " [0.94142056]\n",
            " [0.94235665]\n",
            " [0.9428025 ]\n",
            " [0.9436853 ]\n",
            " [0.9442501 ]\n",
            " [0.9449623 ]\n",
            " [0.94540143]\n",
            " [0.9458408 ]\n",
            " [0.9465796 ]\n",
            " [0.9472443 ]\n",
            " [0.947985  ]\n",
            " [0.9488917 ]\n",
            " [0.9493011 ]\n",
            " [0.94957036]\n",
            " [0.9502009 ]\n",
            " [0.9506768 ]\n",
            " [0.9515695 ]]\n"
          ]
        }
      ]
    },
    {
      "cell_type": "code",
      "source": [
        "# 모델의 정확도 살펴보기\n",
        "trainScore = math.sqrt(mean_squared_error(Y_train[0], TrainPredict[:,0]))\n",
        "print('Train Score: %.2f RMSE' % (trainScore))\n",
        "testScore = math.sqrt(mean_squared_error(Y_test[0], TestPredict[:,0]))\n",
        "print('Test Score: %.2f RMSE' % (testScore))"
      ],
      "metadata": {
        "colab": {
          "base_uri": "https://localhost:8080/"
        },
        "id": "sRLWYP3TWOOj",
        "outputId": "7113b0cf-0970-412c-95fc-0288667d3c4a"
      },
      "execution_count": 11,
      "outputs": [
        {
          "output_type": "stream",
          "name": "stdout",
          "text": [
            "Train Score: 195.55 RMSE\n",
            "Test Score: 110.01 RMSE\n"
          ]
        }
      ]
    },
    {
      "cell_type": "code",
      "source": [
        "# 결과를 그래프로 확인하기\n",
        "trainPredictPlot = np.empty_like(dataset)\n",
        "trainPredictPlot[:, :] = np.nan\n",
        "trainPredictPlot[look_back:len(TrainPredict)+look_back, :] = TrainPredict\n",
        "testPredictPlot = np.empty_like(dataset)\n",
        "testPredictPlot[len(TrainPredict)+(look_back)*2:len(dataset), :] = TestPredict\n",
        "plt.plot(dataset)\n",
        "plt.plot(trainPredictPlot)\n",
        "plt.plot(testPredictPlot)\n",
        "plt.show()"
      ],
      "metadata": {
        "colab": {
          "base_uri": "https://localhost:8080/",
          "height": 430
        },
        "id": "9AqzPA9PW8jX",
        "outputId": "f4c191b1-13e0-4905-919a-badef9fe5ac5"
      },
      "execution_count": 12,
      "outputs": [
        {
          "output_type": "display_data",
          "data": {
            "text/plain": [
              "<Figure size 640x480 with 1 Axes>"
            ],
            "image/png": "[encoded data removed]"
          },
          "metadata": {}
        }
      ]
    }
  ]
}